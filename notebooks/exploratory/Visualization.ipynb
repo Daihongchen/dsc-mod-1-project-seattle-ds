{
 "cells": [
  {
   "cell_type": "code",
   "execution_count": 12,
   "metadata": {},
   "outputs": [],
   "source": [
    "import pandas as pd\n",
    "import matplotlib.pyplot as plt\n",
    "import seaborn as sns"
   ]
  },
  {
   "cell_type": "code",
   "execution_count": 47,
   "metadata": {},
   "outputs": [],
   "source": [
    "ty_2016 =pd.read_csv('total_youth_2016.csv').round(0)\n",
    "ty_2017=pd.read_csv('total_youth_2017.csv').round(0)\n",
    "oy_2016=pd.read_csv('opportunity_youth_2016.csv').round(0)\n",
    "oy_2017=pd.read_csv('opportunity_youth_2017.csv').round(0)"
   ]
  },
  {
   "cell_type": "code",
   "execution_count": 48,
   "metadata": {},
   "outputs": [
    {
     "data": {
      "text/html": [
       "<div>\n",
       "<style scoped>\n",
       "    .dataframe tbody tr th:only-of-type {\n",
       "        vertical-align: middle;\n",
       "    }\n",
       "\n",
       "    .dataframe tbody tr th {\n",
       "        vertical-align: top;\n",
       "    }\n",
       "\n",
       "    .dataframe thead th {\n",
       "        text-align: right;\n",
       "    }\n",
       "</style>\n",
       "<table border=\"1\" class=\"dataframe\">\n",
       "  <thead>\n",
       "    <tr style=\"text-align: right;\">\n",
       "      <th></th>\n",
       "      <th>%16-18</th>\n",
       "      <th>16-18</th>\n",
       "      <th>%19-21</th>\n",
       "      <th>19-21</th>\n",
       "      <th>%22-24</th>\n",
       "      <th>22-24</th>\n",
       "      <th>%Total</th>\n",
       "      <th>Total</th>\n",
       "    </tr>\n",
       "    <tr>\n",
       "      <th>youthtype</th>\n",
       "      <th></th>\n",
       "      <th></th>\n",
       "      <th></th>\n",
       "      <th></th>\n",
       "      <th></th>\n",
       "      <th></th>\n",
       "      <th></th>\n",
       "      <th></th>\n",
       "    </tr>\n",
       "  </thead>\n",
       "  <tbody>\n",
       "    <tr>\n",
       "      <th>Total</th>\n",
       "      <td>100.0</td>\n",
       "      <td>50053.0</td>\n",
       "      <td>100.0</td>\n",
       "      <td>41651.0</td>\n",
       "      <td>100.0</td>\n",
       "      <td>48031.0</td>\n",
       "      <td>100.0</td>\n",
       "      <td>139735.0</td>\n",
       "    </tr>\n",
       "    <tr>\n",
       "      <th>Opportunity Youth</th>\n",
       "      <td>6.0</td>\n",
       "      <td>2805.0</td>\n",
       "      <td>17.0</td>\n",
       "      <td>7284.0</td>\n",
       "      <td>18.0</td>\n",
       "      <td>8728.0</td>\n",
       "      <td>13.0</td>\n",
       "      <td>18817.0</td>\n",
       "    </tr>\n",
       "    <tr>\n",
       "      <th>Working without Diploma</th>\n",
       "      <td>1.0</td>\n",
       "      <td>587.0</td>\n",
       "      <td>5.0</td>\n",
       "      <td>2049.0</td>\n",
       "      <td>6.0</td>\n",
       "      <td>2877.0</td>\n",
       "      <td>4.0</td>\n",
       "      <td>5513.0</td>\n",
       "    </tr>\n",
       "    <tr>\n",
       "      <th>Not Opportunity Youth</th>\n",
       "      <td>93.0</td>\n",
       "      <td>46661.0</td>\n",
       "      <td>78.0</td>\n",
       "      <td>32318.0</td>\n",
       "      <td>76.0</td>\n",
       "      <td>36426.0</td>\n",
       "      <td>83.0</td>\n",
       "      <td>115405.0</td>\n",
       "    </tr>\n",
       "  </tbody>\n",
       "</table>\n",
       "</div>"
      ],
      "text/plain": [
       "                         %16-18    16-18  %19-21    19-21  %22-24    22-24  \\\n",
       "youthtype                                                                    \n",
       "Total                     100.0  50053.0   100.0  41651.0   100.0  48031.0   \n",
       "Opportunity Youth           6.0   2805.0    17.0   7284.0    18.0   8728.0   \n",
       "Working without Diploma     1.0    587.0     5.0   2049.0     6.0   2877.0   \n",
       "Not Opportunity Youth      93.0  46661.0    78.0  32318.0    76.0  36426.0   \n",
       "\n",
       "                         %Total     Total  \n",
       "youthtype                                  \n",
       "Total                     100.0  139735.0  \n",
       "Opportunity Youth          13.0   18817.0  \n",
       "Working without Diploma     4.0    5513.0  \n",
       "Not Opportunity Youth      83.0  115405.0  "
      ]
     },
     "execution_count": 48,
     "metadata": {},
     "output_type": "execute_result"
    }
   ],
   "source": [
    "ty_2016=ty_2016.rename(columns={'Unnamed: 0': 'youthtype'})\n",
    "ty_2016.set_index('youthtype', inplace=True)\n",
    "ty_2017.set_index('youthtype', inplace=True)\n",
    "ty_2016"
   ]
  },
  {
   "cell_type": "code",
   "execution_count": 72,
   "metadata": {},
   "outputs": [
    {
     "name": "stderr",
     "output_type": "stream",
     "text": [
      "/Users/daihongchen/opt/anaconda3/envs/oy-env/lib/python3.8/site-packages/seaborn/categorical.py:3669: UserWarning: The `factorplot` function has been renamed to `catplot`. The original name will be removed in a future release. Please update your code. Note that the default `kind` in `factorplot` (`'point'`) has changed `'strip'` in `catplot`.\n",
      "  warnings.warn(msg)\n"
     ]
    },
    {
     "data": {
      "text/plain": [
       "<seaborn.axisgrid.FacetGrid at 0x13f2df550>"
      ]
     },
     "execution_count": 72,
     "metadata": {},
     "output_type": "execute_result"
    },
    {
     "data": {
      "image/png": "[encoded data removed]",
      "text/plain": [
       "<Figure size 421.5x360 with 1 Axes>"
      ]
     },
     "metadata": {
      "needs_background": "light"
     },
     "output_type": "display_data"
    }
   ],
   "source": [
    "c_1620=pd.concat((ty_2016, ty_2017), axis=0, ignore_index=True)\n",
    "#c_1618=c_1618.rename(index={0: '2016Total', 1:'2016Opportunity', 2:'%2017', 3: '2017'})\n",
    "c_1620=c_1620.rename(index={0:'total', 1:'oy', 2: 'wwd', 3: 'noy', 4: 'total', 5:'oy', 6:'wwd', 7:'noy'})\n",
    "#c_1618 = c_1618.melt(c_1618, id_vars='', var_name=\"age\", value_name=\"numbers\")\n",
    "c_1620['year']=['2016', '2016', '2016','2016' ,'2020', '2020', '2020','2020']\n",
    "c_1620\n",
    "c_1620=c_1620.reset_index()\n",
    "data=c_1620.loc[c_1620['index'] !='total', ['index', '%16-18','year']]\n",
    "data\n",
    "sns.factorplot(x='index', y='%16-18', hue='year', data=data, kind='bar')"
   ]
  },
  {
   "cell_type": "code",
   "execution_count": 67,
   "metadata": {},
   "outputs": [
    {
     "data": {
      "text/plain": [
       "0     True\n",
       "1     True\n",
       "2     True\n",
       "3     True\n",
       "4    False\n",
       "5    False\n",
       "6    False\n",
       "7    False\n",
       "Name: year, dtype: bool"
      ]
     },
     "execution_count": 67,
     "metadata": {},
     "output_type": "execute_result"
    }
   ],
   "source": [
    "c_1620['indec'] !='total'"
   ]
  },
  {
   "cell_type": "code",
   "execution_count": 5,
   "metadata": {},
   "outputs": [
    {
     "ename": "AttributeError",
     "evalue": "'AxesSubplot' object has no attribute 'sns'",
     "output_type": "error",
     "traceback": [
      "\u001b[0;31m---------------------------------------------------------------------------\u001b[0m",
      "\u001b[0;31mAttributeError\u001b[0m                            Traceback (most recent call last)",
      "\u001b[0;32m<ipython-input-5-05d205c9276b>\u001b[0m in \u001b[0;36m<module>\u001b[0;34m\u001b[0m\n\u001b[1;32m      1\u001b[0m \u001b[0mfig\u001b[0m\u001b[0;34m,\u001b[0m \u001b[0maxs\u001b[0m\u001b[0;34m=\u001b[0m\u001b[0mplt\u001b[0m\u001b[0;34m.\u001b[0m\u001b[0msubplots\u001b[0m\u001b[0;34m(\u001b[0m\u001b[0;36m2\u001b[0m\u001b[0;34m,\u001b[0m \u001b[0;36m2\u001b[0m\u001b[0;34m,\u001b[0m \u001b[0mfigsize\u001b[0m\u001b[0;34m=\u001b[0m\u001b[0;34m(\u001b[0m\u001b[0;36m8\u001b[0m\u001b[0;34m,\u001b[0m \u001b[0;36m6\u001b[0m\u001b[0;34m)\u001b[0m\u001b[0;34m)\u001b[0m\u001b[0;34m\u001b[0m\u001b[0;34m\u001b[0m\u001b[0m\n\u001b[1;32m      2\u001b[0m \u001b[0;31m#axs.barh(['2016', 'current'], [c_1618['2016'][0], c_1618['2017'][0]])\u001b[0m\u001b[0;34m\u001b[0m\u001b[0;34m\u001b[0m\u001b[0;34m\u001b[0m\u001b[0m\n\u001b[0;32m----> 3\u001b[0;31m \u001b[0maxs\u001b[0m\u001b[0;34m[\u001b[0m\u001b[0;36m0\u001b[0m\u001b[0;34m]\u001b[0m\u001b[0;34m[\u001b[0m\u001b[0;36m0\u001b[0m\u001b[0;34m]\u001b[0m\u001b[0;34m.\u001b[0m\u001b[0msns\u001b[0m\u001b[0;34m.\u001b[0m\u001b[0mbar\u001b[0m\u001b[0;34m(\u001b[0m\u001b[0;34m[\u001b[0m\u001b[0;34m'2016'\u001b[0m\u001b[0;34m,\u001b[0m \u001b[0;34m'current'\u001b[0m\u001b[0;34m]\u001b[0m\u001b[0;34m,\u001b[0m \u001b[0;34m[\u001b[0m\u001b[0;34m'10'\u001b[0m\u001b[0;34m,\u001b[0m \u001b[0;34m'20'\u001b[0m\u001b[0;34m]\u001b[0m\u001b[0;34m)\u001b[0m\u001b[0;34m\u001b[0m\u001b[0;34m\u001b[0m\u001b[0m\n\u001b[0m",
      "\u001b[0;31mAttributeError\u001b[0m: 'AxesSubplot' object has no attribute 'sns'"
     ]
    },
    {
     "data": {
      "image/png": "[encoded data removed]",
      "text/plain": [
       "<Figure size 576x432 with 4 Axes>"
      ]
     },
     "metadata": {
      "needs_background": "light"
     },
     "output_type": "display_data"
    }
   ],
   "source": [
    "fig, axs=plt.subplots(2, 2, figsize=(8, 6))\n",
    "#axs.barh(['2016', 'current'], [c_1618['2016'][0], c_1618['2017'][0]])\n",
    "axs[0][0].sns.bar(['2016', 'current'], ['10', '20'])"
   ]
  },
  {
   "cell_type": "code",
   "execution_count": null,
   "metadata": {},
   "outputs": [],
   "source": [
    "oy_2016"
   ]
  },
  {
   "cell_type": "code",
   "execution_count": null,
   "metadata": {},
   "outputs": [],
   "source": [
    "ty_2017"
   ]
  },
  {
   "cell_type": "code",
   "execution_count": null,
   "metadata": {},
   "outputs": [],
   "source": []
  },
  {
   "cell_type": "code",
   "execution_count": null,
   "metadata": {},
   "outputs": [],
   "source": []
  }
 ],
 "metadata": {
  "kernelspec": {
   "display_name": "Python 3",
   "language": "python",
   "name": "python3"
  },
  "language_info": {
   "codemirror_mode": {
    "name": "ipython",
    "version": 3
   },
   "file_extension": ".py",
   "mimetype": "text/x-python",
   "name": "python",
   "nbconvert_exporter": "python",
   "pygments_lexer": "ipython3",
   "version": "3.8.1"
  }
 },
 "nbformat": 4,
 "nbformat_minor": 4
}
